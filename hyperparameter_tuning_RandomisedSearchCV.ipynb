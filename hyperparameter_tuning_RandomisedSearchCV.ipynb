{
 "cells": [
  {
   "cell_type": "code",
   "execution_count": 1,
   "id": "c7fcf3d2",
   "metadata": {},
   "outputs": [],
   "source": [
    "import pandas as pd\n",
    "import numpy as np\n",
    "from tqdm.auto import tqdm"
   ]
  },
  {
   "cell_type": "markdown",
   "id": "f9a426f3",
   "metadata": {},
   "source": [
    "###### loading data"
   ]
  },
  {
   "cell_type": "code",
   "execution_count": 2,
   "id": "de105fd7",
   "metadata": {},
   "outputs": [],
   "source": [
    "from rdkit.Chem import PandasTools\n",
    "\n",
    "sol_test = PandasTools.LoadSDF('/home/sphalo/data_science/data/solubility.test.sdf')\n",
    "sol_train = PandasTools.LoadSDF('/home/sphalo/data_science/data/solubility.train.sdf')"
   ]
  },
  {
   "cell_type": "markdown",
   "id": "97e3d4a1",
   "metadata": {},
   "source": [
    "###### Extracting Features and Output"
   ]
  },
  {
   "cell_type": "code",
   "execution_count": 3,
   "id": "b35f8545",
   "metadata": {},
   "outputs": [],
   "source": [
    "from rdkit.Chem import AllChem"
   ]
  },
  {
   "cell_type": "code",
   "execution_count": 4,
   "id": "4fe9fbd6",
   "metadata": {},
   "outputs": [],
   "source": [
    "def generate_fps(mol_list):\n",
    "    \"\"\"\n",
    "    Generate rdkit molecule\n",
    "    :param smiles: mol-list,\n",
    "    Generate Morgan fingerprints as 2048 bits\n",
    "    :param mol: input molecule\n",
    "    Generate fingerprints\n",
    "    :param fingerprints: input fingerprints\n",
    "    \"\"\"\n",
    "    fps = []\n",
    "    for mol in tqdm(mol_list):\n",
    "        fp = AllChem.GetMorganFingerprintAsBitVect(mol, 3, nBits=2048)\n",
    "        fps.append(fp)\n",
    "    return fps"
   ]
  },
  {
   "cell_type": "code",
   "execution_count": null,
   "id": "25e5c521",
   "metadata": {},
   "outputs": [],
   "source": []
  },
  {
   "cell_type": "code",
   "execution_count": 5,
   "id": "57288cab",
   "metadata": {},
   "outputs": [
    {
     "data": {
      "application/vnd.jupyter.widget-view+json": {
       "model_id": "96611142e2244aebacbcd57004ac4a42",
       "version_major": 2,
       "version_minor": 0
      },
      "text/plain": [
       "  0%|          | 0/1025 [00:00<?, ?it/s]"
      ]
     },
     "metadata": {},
     "output_type": "display_data"
    }
   ],
   "source": [
    "train_x = np.array(generate_fps(sol_train['ROMol']))\n",
    "train_y = np.array(sol_train['SOL_classification'].values)"
   ]
  },
  {
   "cell_type": "code",
   "execution_count": 6,
   "id": "a6ecc1ad",
   "metadata": {},
   "outputs": [
    {
     "data": {
      "application/vnd.jupyter.widget-view+json": {
       "model_id": "d5dff0a96bdd438d834850ec5b08ea64",
       "version_major": 2,
       "version_minor": 0
      },
      "text/plain": [
       "  0%|          | 0/257 [00:00<?, ?it/s]"
      ]
     },
     "metadata": {},
     "output_type": "display_data"
    }
   ],
   "source": [
    "test_x = np.array(generate_fps(sol_test['ROMol']))\n",
    "test_y = np.array(sol_test['SOL_classification'].values)"
   ]
  },
  {
   "cell_type": "markdown",
   "id": "08e56af5",
   "metadata": {},
   "source": [
    "###### class labelling"
   ]
  },
  {
   "cell_type": "code",
   "execution_count": 7,
   "id": "d2bd0700",
   "metadata": {},
   "outputs": [],
   "source": [
    "# Lets encode target labels (y)\n",
    "from sklearn.preprocessing import LabelEncoder\n",
    "\n",
    "# creating LabelEncoder\n",
    "label_encoder = LabelEncoder()"
   ]
  },
  {
   "cell_type": "code",
   "execution_count": 8,
   "id": "a6d37071",
   "metadata": {},
   "outputs": [],
   "source": [
    "# encode y variable to numerical variables\n",
    "label_encoder.fit(train_y)\n",
    "train_y = label_encoder.transform(train_y)"
   ]
  },
  {
   "cell_type": "code",
   "execution_count": 9,
   "id": "d6549ef9",
   "metadata": {},
   "outputs": [],
   "source": [
    "# encode y variable to numerical variables\n",
    "label_encoder.fit(test_y)\n",
    "test_y = label_encoder.transform(test_y)"
   ]
  },
  {
   "cell_type": "code",
   "execution_count": null,
   "id": "b8ba0309",
   "metadata": {},
   "outputs": [],
   "source": []
  },
  {
   "cell_type": "markdown",
   "id": "e5b85537",
   "metadata": {},
   "source": [
    "###### Data Distribution"
   ]
  },
  {
   "cell_type": "code",
   "execution_count": 10,
   "id": "57e71076",
   "metadata": {},
   "outputs": [
    {
     "name": "stdout",
     "output_type": "stream",
     "text": [
      "Data Distribution of Training Distribution\n"
     ]
    },
    {
     "data": {
      "text/plain": [
       "(A) low       417\n",
       "(B) medium    402\n",
       "(C) high      206\n",
       "Name: SOL_classification, dtype: int64"
      ]
     },
     "execution_count": 10,
     "metadata": {},
     "output_type": "execute_result"
    }
   ],
   "source": [
    "print('Data Distribution of Training Distribution')\n",
    "sol_train['SOL_classification'].value_counts()"
   ]
  },
  {
   "cell_type": "code",
   "execution_count": 11,
   "id": "73ac5371",
   "metadata": {},
   "outputs": [
    {
     "name": "stdout",
     "output_type": "stream",
     "text": [
      "Data Distribution of Test Distribution\n"
     ]
    },
    {
     "data": {
      "text/plain": [
       "(B) medium    115\n",
       "(A) low       102\n",
       "(C) high       40\n",
       "Name: SOL_classification, dtype: int64"
      ]
     },
     "execution_count": 11,
     "metadata": {},
     "output_type": "execute_result"
    }
   ],
   "source": [
    "print('Data Distribution of Test Distribution')\n",
    "sol_test['SOL_classification'].value_counts()"
   ]
  },
  {
   "cell_type": "code",
   "execution_count": null,
   "id": "b9eb73df",
   "metadata": {},
   "outputs": [],
   "source": []
  },
  {
   "cell_type": "markdown",
   "id": "d1ab308c",
   "metadata": {},
   "source": [
    "###### Model training"
   ]
  },
  {
   "cell_type": "code",
   "execution_count": 12,
   "id": "1e0ae81e",
   "metadata": {},
   "outputs": [],
   "source": [
    "from sklearn.neighbors import KNeighborsClassifier\n",
    "from sklearn.model_selection import StratifiedKFold\n",
    "from sklearn.metrics import accuracy_score"
   ]
  },
  {
   "cell_type": "code",
   "execution_count": 13,
   "id": "248f33eb",
   "metadata": {},
   "outputs": [],
   "source": [
    "accu_scores = []\n",
    "model = KNeighborsClassifier()\n",
    "skf = StratifiedKFold(n_splits=10)\n",
    "\n",
    "for train_index, test_index in skf.split(train_x, train_y):\n",
    "    X_train, X_test, y_train, y_test = train_x[train_index], train_x[test_index], \\\n",
    "                                        train_y[train_index], train_y[test_index]\n",
    "    model.fit(train_x, train_y)\n",
    "    y_pred = model.predict(X_test)\n",
    "    accu_scores.append(accuracy_score(y_test, y_pred))"
   ]
  },
  {
   "cell_type": "markdown",
   "id": "658de9aa",
   "metadata": {},
   "source": [
    "###### model evaluation"
   ]
  },
  {
   "cell_type": "code",
   "execution_count": 14,
   "id": "9b1b08b0",
   "metadata": {},
   "outputs": [
    {
     "name": "stdout",
     "output_type": "stream",
     "text": [
      "Model accuracy:  0.7286502950694842\n"
     ]
    }
   ],
   "source": [
    "print('Model accuracy: ', np.mean(accu_scores))"
   ]
  },
  {
   "cell_type": "code",
   "execution_count": 15,
   "id": "44075df7",
   "metadata": {},
   "outputs": [],
   "source": [
    "from sklearn.metrics import classification_report, confusion_matrix, precision_score, \\\n",
    "                            recall_score, roc_auc_score, f1_score, ConfusionMatrixDisplay"
   ]
  },
  {
   "cell_type": "code",
   "execution_count": 16,
   "id": "1666b691",
   "metadata": {},
   "outputs": [
    {
     "data": {
      "text/plain": [
       "array(['(A) low', '(B) medium', '(C) high'], dtype=object)"
      ]
     },
     "execution_count": 16,
     "metadata": {},
     "output_type": "execute_result"
    }
   ],
   "source": [
    "classes = label_encoder.classes_\n",
    "classes"
   ]
  },
  {
   "cell_type": "code",
   "execution_count": 18,
   "id": "7628cbd7",
   "metadata": {},
   "outputs": [
    {
     "name": "stdout",
     "output_type": "stream",
     "text": [
      "Accuracy Score= 0.745\n",
      "Precision Score  = 0.745\n",
      "Recall Score  = 0.745\n",
      "F1 Score = 0.745\n",
      "ROC AUC Score = 0.907\n",
      "\n"
     ]
    }
   ],
   "source": [
    "print(f\"Accuracy Score= {accuracy_score(y_test, y_pred):.3f}\")\n",
    "\n",
    "print(f\"Precision Score  = {precision_score(y_test,y_pred,average='micro'):.3f}\")\n",
    "\n",
    "print(f\"Recall Score  = {recall_score(y_test,y_pred,average='micro'):.3f}\")\n",
    "\n",
    "print(f\"F1 Score = {f1_score(y_test, y_pred,average='micro'):.3f}\")\n",
    "\n",
    "pred_prob = model.predict_proba(X_test)\n",
    "print(f\"ROC AUC Score = {roc_auc_score(y_test, pred_prob, multi_class='ovr'):.3f}\")\n",
    "print()\n",
    "\n",
    "# report = classification_report(y_test,y_pred, target_names=classes)\n",
    "# print('classification report\\n')\n",
    "# print(report)\n",
    "\n",
    "# print('Confusion Matrix\\n')\n",
    "# print(pd.crosstab(y_test, y_pred, rownames=['Actual Classes'], colnames=['Predicted Classes']))"
   ]
  },
  {
   "cell_type": "markdown",
   "id": "66d442de",
   "metadata": {},
   "source": [
    "###### Hyperparameter Tuning (Randomized GridSearchCV)"
   ]
  },
  {
   "cell_type": "code",
   "execution_count": 26,
   "id": "3255ea4a",
   "metadata": {},
   "outputs": [],
   "source": [
    "from sklearn.model_selection import RandomizedSearchCV"
   ]
  },
  {
   "cell_type": "code",
   "execution_count": 51,
   "id": "34c8eca6",
   "metadata": {},
   "outputs": [
    {
     "name": "stdout",
     "output_type": "stream",
     "text": [
      "{'n_neighbors': array([ 2,  3,  4,  5,  6,  7,  8,  9, 10]), 'leaf_size': array([ 2,  3,  4,  5,  6,  7,  8,  9, 10]), 'weights': ['uniform', 'distance'], 'p': array([1, 2])}\n"
     ]
    }
   ],
   "source": [
    "# list hyperpameters we want to tune\n",
    "n_neighbors = np.arange(2,11,1)\n",
    "leaf_size = np.arange(2,11,1)\n",
    "p = np.arange(1,3,1)\n",
    "\n",
    "# create a dictionary(key value pair) of hperparameter candidates\n",
    "param_grid = {\n",
    "    \"n_neighbors\": n_neighbors,\n",
    "    \"leaf_size\": leaf_size,\n",
    "     \"weights\": ['uniform', 'distance'],\n",
    "    \"p\": p,\n",
    "}\n",
    "\n",
    "print(param_grid)"
   ]
  },
  {
   "cell_type": "code",
   "execution_count": 52,
   "id": "620838c8",
   "metadata": {},
   "outputs": [
    {
     "name": "stdout",
     "output_type": "stream",
     "text": [
      "Fitting 10 folds for each of 10 candidates, totalling 100 fits\n"
     ]
    }
   ],
   "source": [
    "# create knn classifier\n",
    "model = KNeighborsClassifier()\n",
    "\n",
    "# create a gridsearch\n",
    "gridsearch = RandomizedSearchCV(\n",
    "    estimator=model,\n",
    "    param_distributions=param_grid,\n",
    "    cv=10,\n",
    "    random_state=1,\n",
    "    n_iter=10,\n",
    "    scoring=\"accuracy\",\n",
    "    verbose=2,\n",
    "    n_jobs=-1,\n",
    ")\n",
    "\n",
    "# fit the grid search\n",
    "best_model = gridsearch.fit(train_x,train_y)"
   ]
  },
  {
   "cell_type": "code",
   "execution_count": 53,
   "id": "be927350",
   "metadata": {},
   "outputs": [
    {
     "name": "stdout",
     "output_type": "stream",
     "text": [
      "Model Best Score: 0.489\n",
      "Model Best Paramerters: {'weights': 'distance', 'p': 2, 'n_neighbors': 2, 'leaf_size': 5}\n"
     ]
    }
   ],
   "source": [
    "print(f\"Model Best Score: {(best_model.best_score_):.3f}\")\n",
    "print(f\"Model Best Paramerters: {best_model.best_params_}\")"
   ]
  },
  {
   "cell_type": "markdown",
   "id": "f09ac05e",
   "metadata": {},
   "source": [
    "###### Model Evaluation"
   ]
  },
  {
   "cell_type": "code",
   "execution_count": 54,
   "id": "fe7d5287",
   "metadata": {},
   "outputs": [
    {
     "name": "stdout",
     "output_type": "stream",
     "text": [
      "Train Accuracy Score: 0.998\n",
      "Test Accuracy Score: 0.603\n"
     ]
    }
   ],
   "source": [
    "print(f\"Train Accuracy Score: {accuracy_score(train_y, best_model.predict(train_x)):.3f}\")\n",
    "print(f\"Test Accuracy Score: {accuracy_score(test_y, best_model.predict(test_x)):.3f}\")"
   ]
  },
  {
   "cell_type": "code",
   "execution_count": 148,
   "id": "dea25ec5",
   "metadata": {},
   "outputs": [
    {
     "data": {
      "image/png": "[encoded data removed]",
      "text/plain": [
       "<Figure size 640x480 with 2 Axes>"
      ]
     },
     "metadata": {},
     "output_type": "display_data"
    }
   ],
   "source": [
    "# confusion matrix\n",
    "cm = confusion_matrix(test_y, best_model.predict(test_x))\n",
    "cmd = ConfusionMatrixDisplay(cm, display_labels=classes).plot()"
   ]
  },
  {
   "cell_type": "code",
   "execution_count": null,
   "id": "be59583b",
   "metadata": {},
   "outputs": [],
   "source": []
  },
  {
   "cell_type": "code",
   "execution_count": 31,
   "id": "f96459e4",
   "metadata": {},
   "outputs": [],
   "source": [
    "import matplotlib.pyplot as plt\n",
    "import seaborn as sns"
   ]
  },
  {
   "cell_type": "code",
   "execution_count": 55,
   "id": "38cabe7b",
   "metadata": {},
   "outputs": [
    {
     "data": {
      "image/png": "[encoded data removed]",
      "text/plain": [
       "<Figure size 640x480 with 1 Axes>"
      ]
     },
     "metadata": {},
     "output_type": "display_data"
    }
   ],
   "source": [
    "from sklearn.preprocessing import label_binarize\n",
    "from sklearn.metrics import roc_curve, auc\n",
    "\n",
    "# binarize the y_values, which changes shape from (644,) to (644,3)\n",
    "y_test_binarized = label_binarize(test_y,classes=np.unique(test_y))\n",
    "\n",
    "# roc curve for classes\n",
    "fpr = {}\n",
    "tpr = {}\n",
    "thresh ={}\n",
    "roc_auc = dict()\n",
    "\n",
    "n_class = classes.shape[0]\n",
    "\n",
    "for i in range(n_class):\n",
    "    #  Compute fpr, tpr, thresholds and roc auc\n",
    "    fpr[i], tpr[i], thresh[i] = roc_curve(y_test_binarized[:,i], best_model.predict_proba(test_x)[:,i]) \n",
    "    # compute AUC score\n",
    "    roc_auc[i] = auc(fpr[i], tpr[i])\n",
    "    # plotting    \n",
    "    plt.plot(fpr[i], tpr[i], linestyle='-', \n",
    "             label='%s (AUC=%0.2f)'%(classes[i],roc_auc[i])) # use (VS Rest) when using one-vs-rest model\n",
    "\n",
    "plt.rcParams[\"figure.figsize\"] = [6, 5]\n",
    "plt.rcParams[\"patch.facecolor\"] = 'white'\n",
    "plt.rcdefaults()\n",
    "\n",
    "plt.plot([0,1],[0,1],'k--')\n",
    "plt.xlim([0,1])\n",
    "plt.ylim([0,1.05])\n",
    "plt.title('Multiclass ROC curve')\n",
    "plt.xlabel('False Positive Rate')\n",
    "plt.ylabel('True Positive Rate')\n",
    "plt.legend(loc='lower right')\n",
    "plt.show()"
   ]
  }
 ],
 "metadata": {
  "kernelspec": {
   "display_name": "Python 3",
   "language": "python",
   "name": "python3"
  },
  "language_info": {
   "codemirror_mode": {
    "name": "ipython",
    "version": 3
   },
   "file_extension": ".py",
   "mimetype": "text/x-python",
   "name": "python",
   "nbconvert_exporter": "python",
   "pygments_lexer": "ipython3",
   "version": "3.9.12"
  }
 },
 "nbformat": 4,
 "nbformat_minor": 5
}
